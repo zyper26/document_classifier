{
 "cells": [
  {
   "cell_type": "code",
   "execution_count": 2,
   "id": "1ee880fe",
   "metadata": {},
   "outputs": [],
   "source": [
    "import os"
   ]
  },
  {
   "cell_type": "markdown",
   "id": "d97fba18",
   "metadata": {},
   "source": [
    "### Raw Data File Path (get the list of all files path)"
   ]
  },
  {
   "cell_type": "code",
   "execution_count": 136,
   "id": "ef13dc99",
   "metadata": {},
   "outputs": [],
   "source": [
    "raw_data_folder = \"./raw_data/\"\n",
    "labelled_folder = \"./data/\"\n",
    "image_folder = './image_data/'"
   ]
  },
  {
   "cell_type": "code",
   "execution_count": 12,
   "id": "1e5ca8fd",
   "metadata": {},
   "outputs": [],
   "source": [
    "def get_visible_files_or_folder(path):\n",
    "    folder_list = os.listdir(path)\n",
    "    return [folder for folder in folder_list if not folder.startswith('.')]"
   ]
  },
  {
   "cell_type": "code",
   "execution_count": 23,
   "id": "41f6f3cb",
   "metadata": {},
   "outputs": [],
   "source": [
    "def combine_paths(directory, file_list):\n",
    "    if not directory.endswith(os.path.sep):\n",
    "        directory += os.path.sep\n",
    "\n",
    "    combined_paths = [os.path.join(directory, file) for file in file_list]\n",
    "\n",
    "    return combined_paths"
   ]
  },
  {
   "cell_type": "code",
   "execution_count": 24,
   "id": "bb51e845",
   "metadata": {},
   "outputs": [],
   "source": [
    "visible_folder = get_visible_files_or_folder(raw_data_folder)\n",
    "all_files_path = []\n",
    "\n",
    "for each_folder in visible_folder:\n",
    "    file_list = get_visible_files_or_folder(os.path.join(raw_data_folder, each_folder))\n",
    "    all_files_path.extend(combine_paths(os.path.join(raw_data_folder, each_folder), file_list))"
   ]
  },
  {
   "cell_type": "code",
   "execution_count": 26,
   "id": "9ada4cbe",
   "metadata": {
    "scrolled": true
   },
   "outputs": [
    {
     "data": {
      "text/plain": [
       "304"
      ]
     },
     "execution_count": 26,
     "metadata": {},
     "output_type": "execute_result"
    }
   ],
   "source": [
    "len(all_files_path)"
   ]
  },
  {
   "cell_type": "code",
   "execution_count": 28,
   "id": "c14fcc80",
   "metadata": {},
   "outputs": [
    {
     "data": {
      "text/plain": [
       "'./raw_data/0004/00049397.pdf'"
      ]
     },
     "execution_count": 28,
     "metadata": {},
     "output_type": "execute_result"
    }
   ],
   "source": [
    "all_files_path[0]"
   ]
  },
  {
   "cell_type": "markdown",
   "id": "1fb8ec0e",
   "metadata": {},
   "source": [
    "### Data Generator"
   ]
  },
  {
   "cell_type": "markdown",
   "id": "8da1d16a",
   "metadata": {},
   "source": [
    "#### Convert pdf to image"
   ]
  },
  {
   "cell_type": "code",
   "execution_count": 35,
   "id": "a728125e",
   "metadata": {},
   "outputs": [],
   "source": [
    "from pdf2image import convert_from_path"
   ]
  },
  {
   "cell_type": "code",
   "execution_count": 37,
   "id": "5fc2679f",
   "metadata": {},
   "outputs": [],
   "source": [
    "for each_file in all_files_path:\n",
    "    doc_img = convert_from_path(each_file, 100)\n",
    "    img_name = each_file.split('/')[-1]\n",
    "    filename_without_extension = img_name.split('.')[0]\n",
    "    doc_img[0].save(f'./image_data/{filename_without_extension}.jpg', 'JPEG')"
   ]
  },
  {
   "cell_type": "markdown",
   "id": "20a0ea3f",
   "metadata": {},
   "source": [
    "Used [Robot VGG tool](https://www.robots.ox.ac.uk/~vgg/software/via/via.html) to label each image "
   ]
  },
  {
   "cell_type": "markdown",
   "id": "af942821",
   "metadata": {},
   "source": [
    "### Move to labelled data"
   ]
  },
  {
   "cell_type": "code",
   "execution_count": 142,
   "id": "0946723a",
   "metadata": {},
   "outputs": [],
   "source": [
    "import pandas as pd\n",
    "import json\n",
    "import matplotlib.pyplot as plt"
   ]
  },
  {
   "cell_type": "code",
   "execution_count": 110,
   "id": "1a113dff",
   "metadata": {},
   "outputs": [
    {
     "data": {
      "text/html": [
       "<div>\n",
       "<style scoped>\n",
       "    .dataframe tbody tr th:only-of-type {\n",
       "        vertical-align: middle;\n",
       "    }\n",
       "\n",
       "    .dataframe tbody tr th {\n",
       "        vertical-align: top;\n",
       "    }\n",
       "\n",
       "    .dataframe thead th {\n",
       "        text-align: right;\n",
       "    }\n",
       "</style>\n",
       "<table border=\"1\" class=\"dataframe\">\n",
       "  <thead>\n",
       "    <tr style=\"text-align: right;\">\n",
       "      <th></th>\n",
       "      <th>filename</th>\n",
       "      <th>file_size</th>\n",
       "      <th>file_attributes</th>\n",
       "      <th>region_count</th>\n",
       "      <th>region_id</th>\n",
       "      <th>region_shape_attributes</th>\n",
       "      <th>region_attributes</th>\n",
       "    </tr>\n",
       "  </thead>\n",
       "  <tbody>\n",
       "    <tr>\n",
       "      <th>0</th>\n",
       "      <td>00049397.jpg</td>\n",
       "      <td>222906</td>\n",
       "      <td>{\"caption\":\"\",\"public_domain\":\"no\",\"image_url\"...</td>\n",
       "      <td>0</td>\n",
       "      <td>0</td>\n",
       "      <td>{}</td>\n",
       "      <td>{}</td>\n",
       "    </tr>\n",
       "    <tr>\n",
       "      <th>1</th>\n",
       "      <td>00068790.jpg</td>\n",
       "      <td>221900</td>\n",
       "      <td>{\"caption\":\"\",\"public_domain\":\"no\",\"image_url\"...</td>\n",
       "      <td>0</td>\n",
       "      <td>0</td>\n",
       "      <td>{}</td>\n",
       "      <td>{}</td>\n",
       "    </tr>\n",
       "    <tr>\n",
       "      <th>2</th>\n",
       "      <td>00092635.jpg</td>\n",
       "      <td>208901</td>\n",
       "      <td>{\"caption\":\"\",\"public_domain\":\"no\",\"image_url\"...</td>\n",
       "      <td>0</td>\n",
       "      <td>0</td>\n",
       "      <td>{}</td>\n",
       "      <td>{}</td>\n",
       "    </tr>\n",
       "    <tr>\n",
       "      <th>3</th>\n",
       "      <td>00092782.jpg</td>\n",
       "      <td>156646</td>\n",
       "      <td>{\"caption\":\"\",\"public_domain\":\"no\",\"image_url\"...</td>\n",
       "      <td>0</td>\n",
       "      <td>0</td>\n",
       "      <td>{}</td>\n",
       "      <td>{}</td>\n",
       "    </tr>\n",
       "    <tr>\n",
       "      <th>4</th>\n",
       "      <td>00092785.jpg</td>\n",
       "      <td>218969</td>\n",
       "      <td>{\"caption\":\"\",\"public_domain\":\"no\",\"image_url\"...</td>\n",
       "      <td>0</td>\n",
       "      <td>0</td>\n",
       "      <td>{}</td>\n",
       "      <td>{}</td>\n",
       "    </tr>\n",
       "  </tbody>\n",
       "</table>\n",
       "</div>"
      ],
      "text/plain": [
       "       filename  file_size                                    file_attributes  \\\n",
       "0  00049397.jpg     222906  {\"caption\":\"\",\"public_domain\":\"no\",\"image_url\"...   \n",
       "1  00068790.jpg     221900  {\"caption\":\"\",\"public_domain\":\"no\",\"image_url\"...   \n",
       "2  00092635.jpg     208901  {\"caption\":\"\",\"public_domain\":\"no\",\"image_url\"...   \n",
       "3  00092782.jpg     156646  {\"caption\":\"\",\"public_domain\":\"no\",\"image_url\"...   \n",
       "4  00092785.jpg     218969  {\"caption\":\"\",\"public_domain\":\"no\",\"image_url\"...   \n",
       "\n",
       "   region_count  region_id region_shape_attributes region_attributes  \n",
       "0             0          0                      {}                {}  \n",
       "1             0          0                      {}                {}  \n",
       "2             0          0                      {}                {}  \n",
       "3             0          0                      {}                {}  \n",
       "4             0          0                      {}                {}  "
      ]
     },
     "execution_count": 110,
     "metadata": {},
     "output_type": "execute_result"
    }
   ],
   "source": [
    "df = pd.read_csv(\"./doc_classifier_data.csv\")\n",
    "df.head()"
   ]
  },
  {
   "cell_type": "code",
   "execution_count": 111,
   "id": "f8bb569b",
   "metadata": {},
   "outputs": [],
   "source": [
    "form_type = df[\"file_attributes\"].apply(lambda x: json.loads(x)[\"form_type\"])"
   ]
  },
  {
   "cell_type": "code",
   "execution_count": 112,
   "id": "f04bf7b4",
   "metadata": {},
   "outputs": [],
   "source": [
    "df_new = pd.DataFrame({\n",
    "    \"filename\": df[\"filename\"],\n",
    "    \"form_type\": form_type\n",
    "})"
   ]
  },
  {
   "cell_type": "code",
   "execution_count": 113,
   "id": "b2f9a240",
   "metadata": {},
   "outputs": [],
   "source": [
    "df_new[\"form_type\"] = df_new[\"form_type\"].replace({ \\\n",
    "                                                    \"form d\": \"Form_D\", \\\n",
    "                                                   'form 13F': 'Form_13F', \\\n",
    "                                                   'other': 'Other', \\\n",
    "                                                  'form X-17A-5': 'Form_X-17A-5', \\\n",
    "                                                  'form 6-K': 'Form_6-K', \\\n",
    "                                                  'form TA-2': 'Form_TA-2',\n",
    "                                                  '82-submission facing sheet': '82_Submission_Facing_Sheet',\\\n",
    "                                                  'form 11-K': 'Form_11-K', \\\n",
    "                                                  'form 19B-4': 'Form_19B-4'})"
   ]
  },
  {
   "cell_type": "code",
   "execution_count": 114,
   "id": "18a6b524",
   "metadata": {},
   "outputs": [
    {
     "data": {
      "text/plain": [
       "array(['Form_D', 'Form_13F', 'Other', 'Form_X-17A-5', 'Form_6-K',\n",
       "       'Form_TA-2', '82_Submission_Facing_Sheet', 'Form_11-K',\n",
       "       'Form_19B-4'], dtype=object)"
      ]
     },
     "execution_count": 114,
     "metadata": {},
     "output_type": "execute_result"
    }
   ],
   "source": [
    "df_new.form_type.unique()"
   ]
  },
  {
   "cell_type": "code",
   "execution_count": 115,
   "id": "eaef279e",
   "metadata": {},
   "outputs": [],
   "source": [
    "df_new.to_csv(\"./document_label_data.csv\", index = False)"
   ]
  },
  {
   "cell_type": "markdown",
   "id": "b9cfbf99",
   "metadata": {},
   "source": [
    "### Create label folder and move images to that label folder"
   ]
  },
  {
   "cell_type": "code",
   "execution_count": 116,
   "id": "7293555c",
   "metadata": {},
   "outputs": [
    {
     "data": {
      "text/html": [
       "<div>\n",
       "<style scoped>\n",
       "    .dataframe tbody tr th:only-of-type {\n",
       "        vertical-align: middle;\n",
       "    }\n",
       "\n",
       "    .dataframe tbody tr th {\n",
       "        vertical-align: top;\n",
       "    }\n",
       "\n",
       "    .dataframe thead th {\n",
       "        text-align: right;\n",
       "    }\n",
       "</style>\n",
       "<table border=\"1\" class=\"dataframe\">\n",
       "  <thead>\n",
       "    <tr style=\"text-align: right;\">\n",
       "      <th></th>\n",
       "      <th>filename</th>\n",
       "      <th>form_type</th>\n",
       "    </tr>\n",
       "  </thead>\n",
       "  <tbody>\n",
       "    <tr>\n",
       "      <th>0</th>\n",
       "      <td>00049397.jpg</td>\n",
       "      <td>Form_D</td>\n",
       "    </tr>\n",
       "    <tr>\n",
       "      <th>1</th>\n",
       "      <td>00068790.jpg</td>\n",
       "      <td>Form_D</td>\n",
       "    </tr>\n",
       "    <tr>\n",
       "      <th>2</th>\n",
       "      <td>00092635.jpg</td>\n",
       "      <td>Form_D</td>\n",
       "    </tr>\n",
       "    <tr>\n",
       "      <th>3</th>\n",
       "      <td>00092782.jpg</td>\n",
       "      <td>Form_13F</td>\n",
       "    </tr>\n",
       "    <tr>\n",
       "      <th>4</th>\n",
       "      <td>00092785.jpg</td>\n",
       "      <td>Form_D</td>\n",
       "    </tr>\n",
       "  </tbody>\n",
       "</table>\n",
       "</div>"
      ],
      "text/plain": [
       "       filename form_type\n",
       "0  00049397.jpg    Form_D\n",
       "1  00068790.jpg    Form_D\n",
       "2  00092635.jpg    Form_D\n",
       "3  00092782.jpg  Form_13F\n",
       "4  00092785.jpg    Form_D"
      ]
     },
     "execution_count": 116,
     "metadata": {},
     "output_type": "execute_result"
    }
   ],
   "source": [
    "df_new = pd.read_csv(\"./document_label_data.csv\")\n",
    "df_new.head()"
   ]
  },
  {
   "cell_type": "code",
   "execution_count": 145,
   "id": "189eb9ca",
   "metadata": {},
   "outputs": [
    {
     "data": {
      "image/png": "[encoded data removed]",
      "text/plain": [
       "<Figure size 640x480 with 1 Axes>"
      ]
     },
     "metadata": {},
     "output_type": "display_data"
    }
   ],
   "source": [
    "ax = df_new[\"form_type\"].value_counts().plot(kind='bar', color='skyblue')\n",
    "\n",
    "\n",
    "for p in ax.patches:\n",
    "    ax.annotate(str(p.get_height()), (p.get_x() + p.get_width() / 2., p.get_height()), ha='center', va='center', xytext=(0, 10), textcoords='offset points')\n",
    "\n",
    "plt.xlabel('Form')\n",
    "plt.ylabel('Count')\n",
    "plt.title('Bar Chart of Form Counts')\n",
    "\n",
    "plt.show()"
   ]
  },
  {
   "cell_type": "code",
   "execution_count": 108,
   "id": "4009eb07",
   "metadata": {},
   "outputs": [],
   "source": [
    "labelled_data_folder = \"./labelled_data/\""
   ]
  },
  {
   "cell_type": "code",
   "execution_count": 117,
   "id": "27358070",
   "metadata": {},
   "outputs": [],
   "source": [
    "unique_form_types = list(df_new[\"form_type\"].unique())"
   ]
  },
  {
   "cell_type": "code",
   "execution_count": 118,
   "id": "de1ee08b",
   "metadata": {},
   "outputs": [],
   "source": [
    "for form in unique_form_types:\n",
    "    directory_path = os.path.join(labelled_data_folder, form)\n",
    "    if not os.path.exists(directory_path):\n",
    "        os.mkdir(directory_path)"
   ]
  },
  {
   "cell_type": "markdown",
   "id": "4daf14d7",
   "metadata": {},
   "source": [
    "#### Move a file "
   ]
  },
  {
   "cell_type": "code",
   "execution_count": 119,
   "id": "952d8057",
   "metadata": {},
   "outputs": [],
   "source": [
    "import shutil"
   ]
  },
  {
   "cell_type": "code",
   "execution_count": 137,
   "id": "fc1ee74c",
   "metadata": {},
   "outputs": [],
   "source": [
    "for index, rows in df_new.iterrows():\n",
    "    src_dir = os.path.join(image_folder, rows[\"filename\"])\n",
    "    dest_dir = os.path.join(labelled_data_folder, rows['form_type'])\n",
    "    shutil.move(src_dir, dest_dir)"
   ]
  },
  {
   "cell_type": "code",
   "execution_count": null,
   "id": "32958236",
   "metadata": {},
   "outputs": [],
   "source": []
  }
 ],
 "metadata": {
  "kernelspec": {
   "display_name": "Python 3 (ipykernel)",
   "language": "python",
   "name": "python3"
  },
  "language_info": {
   "codemirror_mode": {
    "name": "ipython",
    "version": 3
   },
   "file_extension": ".py",
   "mimetype": "text/x-python",
   "name": "python",
   "nbconvert_exporter": "python",
   "pygments_lexer": "ipython3",
   "version": "3.11.5"
  }
 },
 "nbformat": 4,
 "nbformat_minor": 5
}
